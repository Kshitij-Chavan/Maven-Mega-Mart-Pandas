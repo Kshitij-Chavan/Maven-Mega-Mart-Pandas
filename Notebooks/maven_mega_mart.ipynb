{
 "cells": [
  {
   "cell_type": "markdown",
   "id": "a279c454",
   "metadata": {},
   "source": [
    "# Final Project\n",
    "\n",
    "Ok, so today we'll be working with the transactions, product, and hh_demographic tables in the project_data folder.\n",
    "\n",
    "* First, read in the transactions data.\n",
    "\n",
    "* Read in the only columns `household_key`, `BASKET_ID`, `DAY`, `PRODUCT_ID`, `QUANTITY`, and `SALES_VALUE`.\n",
    "\n",
    "* Convert `DAY`, `QUANTITY`, and `PRODUCT_ID` to the smallest appropriate integer types.\n"
   ]
  },
  {
   "cell_type": "code",
   "execution_count": 1,
   "id": "e57f5a81",
   "metadata": {},
   "outputs": [],
   "source": [
    "# Importing libraries\n",
    "\n",
    "import pandas as pd\n",
    "import numpy as np"
   ]
  },
  {
   "cell_type": "code",
   "execution_count": 2,
   "id": "c6fa5da7",
   "metadata": {},
   "outputs": [
    {
     "data": {
      "text/html": [
       "<div>\n",
       "<style scoped>\n",
       "    .dataframe tbody tr th:only-of-type {\n",
       "        vertical-align: middle;\n",
       "    }\n",
       "\n",
       "    .dataframe tbody tr th {\n",
       "        vertical-align: top;\n",
       "    }\n",
       "\n",
       "    .dataframe thead th {\n",
       "        text-align: right;\n",
       "    }\n",
       "</style>\n",
       "<table border=\"1\" class=\"dataframe\">\n",
       "  <thead>\n",
       "    <tr style=\"text-align: right;\">\n",
       "      <th></th>\n",
       "      <th>household_key</th>\n",
       "      <th>BASKET_ID</th>\n",
       "      <th>DAY</th>\n",
       "      <th>PRODUCT_ID</th>\n",
       "      <th>QUANTITY</th>\n",
       "      <th>SALES_VALUE</th>\n",
       "    </tr>\n",
       "  </thead>\n",
       "  <tbody>\n",
       "    <tr>\n",
       "      <th>0</th>\n",
       "      <td>1364</td>\n",
       "      <td>26984896261</td>\n",
       "      <td>1</td>\n",
       "      <td>842930</td>\n",
       "      <td>1</td>\n",
       "      <td>2.19</td>\n",
       "    </tr>\n",
       "    <tr>\n",
       "      <th>1</th>\n",
       "      <td>1364</td>\n",
       "      <td>26984896261</td>\n",
       "      <td>1</td>\n",
       "      <td>897044</td>\n",
       "      <td>1</td>\n",
       "      <td>2.99</td>\n",
       "    </tr>\n",
       "    <tr>\n",
       "      <th>2</th>\n",
       "      <td>1364</td>\n",
       "      <td>26984896261</td>\n",
       "      <td>1</td>\n",
       "      <td>920955</td>\n",
       "      <td>1</td>\n",
       "      <td>3.09</td>\n",
       "    </tr>\n",
       "    <tr>\n",
       "      <th>3</th>\n",
       "      <td>1364</td>\n",
       "      <td>26984896261</td>\n",
       "      <td>1</td>\n",
       "      <td>937406</td>\n",
       "      <td>1</td>\n",
       "      <td>2.50</td>\n",
       "    </tr>\n",
       "    <tr>\n",
       "      <th>4</th>\n",
       "      <td>1364</td>\n",
       "      <td>26984896261</td>\n",
       "      <td>1</td>\n",
       "      <td>981760</td>\n",
       "      <td>1</td>\n",
       "      <td>0.60</td>\n",
       "    </tr>\n",
       "  </tbody>\n",
       "</table>\n",
       "</div>"
      ],
      "text/plain": [
       "   household_key    BASKET_ID  DAY  PRODUCT_ID  QUANTITY  SALES_VALUE\n",
       "0           1364  26984896261    1      842930         1         2.19\n",
       "1           1364  26984896261    1      897044         1         2.99\n",
       "2           1364  26984896261    1      920955         1         3.09\n",
       "3           1364  26984896261    1      937406         1         2.50\n",
       "4           1364  26984896261    1      981760         1         0.60"
      ]
     },
     "execution_count": 2,
     "metadata": {},
     "output_type": "execute_result"
    }
   ],
   "source": [
    "# Reading transaction data\n",
    "\n",
    "path = '../Data/project_transactions.csv'\n",
    "\n",
    "# Setting the columns that we are going to required for analysis\n",
    "cols = ['household_key', 'BASKET_ID', 'DAY', 'PRODUCT_ID', 'QUANTITY', 'SALES_VALUE']\n",
    "dtype = {'DAY' : 'Int16', 'QUANTITY' : 'Int32', 'PRODUCT_ID' : 'Int32'}\n",
    "\n",
    "# Converting `DAY`, `QUANTITY`, and `PRODUCT_ID` to the smallest appropriate integer types\n",
    "\n",
    "transactions = pd.read_csv(path, usecols=cols, dtype= dtype)\n",
    "\n",
    "transactions.head()"
   ]
  },
  {
   "cell_type": "code",
   "execution_count": 3,
   "id": "c8c3f317",
   "metadata": {},
   "outputs": [
    {
     "data": {
      "text/html": [
       "<div>\n",
       "<style scoped>\n",
       "    .dataframe tbody tr th:only-of-type {\n",
       "        vertical-align: middle;\n",
       "    }\n",
       "\n",
       "    .dataframe tbody tr th {\n",
       "        vertical-align: top;\n",
       "    }\n",
       "\n",
       "    .dataframe thead th {\n",
       "        text-align: right;\n",
       "    }\n",
       "</style>\n",
       "<table border=\"1\" class=\"dataframe\">\n",
       "  <thead>\n",
       "    <tr style=\"text-align: right;\">\n",
       "      <th></th>\n",
       "      <th>household_key</th>\n",
       "      <th>BASKET_ID</th>\n",
       "      <th>DAY</th>\n",
       "      <th>PRODUCT_ID</th>\n",
       "      <th>QUANTITY</th>\n",
       "      <th>SALES_VALUE</th>\n",
       "    </tr>\n",
       "  </thead>\n",
       "  <tbody>\n",
       "    <tr>\n",
       "      <th>count</th>\n",
       "      <td>2146311.0</td>\n",
       "      <td>2.146311e+06</td>\n",
       "      <td>2146311.0</td>\n",
       "      <td>2146311.0</td>\n",
       "      <td>2146311.0</td>\n",
       "      <td>2146311.0</td>\n",
       "    </tr>\n",
       "    <tr>\n",
       "      <th>mean</th>\n",
       "      <td>1056.0</td>\n",
       "      <td>3.404897e+10</td>\n",
       "      <td>390.0</td>\n",
       "      <td>2884715.0</td>\n",
       "      <td>101.0</td>\n",
       "      <td>3.0</td>\n",
       "    </tr>\n",
       "    <tr>\n",
       "      <th>std</th>\n",
       "      <td>605.0</td>\n",
       "      <td>4.723748e+09</td>\n",
       "      <td>190.0</td>\n",
       "      <td>3831949.0</td>\n",
       "      <td>1152.0</td>\n",
       "      <td>4.0</td>\n",
       "    </tr>\n",
       "    <tr>\n",
       "      <th>min</th>\n",
       "      <td>1.0</td>\n",
       "      <td>2.698490e+10</td>\n",
       "      <td>1.0</td>\n",
       "      <td>25671.0</td>\n",
       "      <td>0.0</td>\n",
       "      <td>0.0</td>\n",
       "    </tr>\n",
       "    <tr>\n",
       "      <th>25%</th>\n",
       "      <td>548.0</td>\n",
       "      <td>3.040798e+10</td>\n",
       "      <td>229.0</td>\n",
       "      <td>917231.0</td>\n",
       "      <td>1.0</td>\n",
       "      <td>1.0</td>\n",
       "    </tr>\n",
       "    <tr>\n",
       "      <th>50%</th>\n",
       "      <td>1042.0</td>\n",
       "      <td>3.281176e+10</td>\n",
       "      <td>392.0</td>\n",
       "      <td>1027960.0</td>\n",
       "      <td>1.0</td>\n",
       "      <td>2.0</td>\n",
       "    </tr>\n",
       "    <tr>\n",
       "      <th>75%</th>\n",
       "      <td>1581.0</td>\n",
       "      <td>4.012804e+10</td>\n",
       "      <td>555.0</td>\n",
       "      <td>1132771.0</td>\n",
       "      <td>1.0</td>\n",
       "      <td>3.0</td>\n",
       "    </tr>\n",
       "    <tr>\n",
       "      <th>max</th>\n",
       "      <td>2099.0</td>\n",
       "      <td>4.230536e+10</td>\n",
       "      <td>711.0</td>\n",
       "      <td>18316298.0</td>\n",
       "      <td>89638.0</td>\n",
       "      <td>840.0</td>\n",
       "    </tr>\n",
       "  </tbody>\n",
       "</table>\n",
       "</div>"
      ],
      "text/plain": [
       "       household_key     BASKET_ID        DAY  PRODUCT_ID   QUANTITY  \\\n",
       "count      2146311.0  2.146311e+06  2146311.0   2146311.0  2146311.0   \n",
       "mean          1056.0  3.404897e+10      390.0   2884715.0      101.0   \n",
       "std            605.0  4.723748e+09      190.0   3831949.0     1152.0   \n",
       "min              1.0  2.698490e+10        1.0     25671.0        0.0   \n",
       "25%            548.0  3.040798e+10      229.0    917231.0        1.0   \n",
       "50%           1042.0  3.281176e+10      392.0   1027960.0        1.0   \n",
       "75%           1581.0  4.012804e+10      555.0   1132771.0        1.0   \n",
       "max           2099.0  4.230536e+10      711.0  18316298.0    89638.0   \n",
       "\n",
       "       SALES_VALUE  \n",
       "count    2146311.0  \n",
       "mean           3.0  \n",
       "std            4.0  \n",
       "min            0.0  \n",
       "25%            1.0  \n",
       "50%            2.0  \n",
       "75%            3.0  \n",
       "max          840.0  "
      ]
     },
     "execution_count": 3,
     "metadata": {},
     "output_type": "execute_result"
    }
   ],
   "source": [
    "transactions.describe().round()"
   ]
  },
  {
   "cell_type": "code",
   "execution_count": 4,
   "id": "20d7e7ad",
   "metadata": {},
   "outputs": [
    {
     "name": "stdout",
     "output_type": "stream",
     "text": [
      "<class 'pandas.core.frame.DataFrame'>\n",
      "RangeIndex: 2146311 entries, 0 to 2146310\n",
      "Data columns (total 6 columns):\n",
      " #   Column         Dtype  \n",
      "---  ------         -----  \n",
      " 0   household_key  int64  \n",
      " 1   BASKET_ID      int64  \n",
      " 2   DAY            Int16  \n",
      " 3   PRODUCT_ID     Int32  \n",
      " 4   QUANTITY       Int32  \n",
      " 5   SALES_VALUE    float64\n",
      "dtypes: Int16(1), Int32(2), float64(1), int64(2)\n",
      "memory usage: 75.7 MB\n"
     ]
    }
   ],
   "source": [
    "# Checking memory usage\n",
    "\n",
    "transactions.info(memory_usage='deep')"
   ]
  },
  {
   "cell_type": "code",
   "execution_count": 5,
   "id": "8c90a284",
   "metadata": {},
   "outputs": [],
   "source": [
    "# creating a Date Column.\n",
    "\n",
    "transactions = (\n",
    "    transactions\n",
    "    .assign(date = (pd.to_datetime(\"2016\", format='%Y') \n",
    "                    + pd.to_timedelta(transactions[\"DAY\"].sub(1).astype(str) + \" days\"))\n",
    "           )\n",
    "    .drop([\"DAY\"], axis=1)\n",
    ")"
   ]
  },
  {
   "cell_type": "code",
   "execution_count": 6,
   "id": "41ff4df8",
   "metadata": {},
   "outputs": [
    {
     "data": {
      "text/html": [
       "<div>\n",
       "<style scoped>\n",
       "    .dataframe tbody tr th:only-of-type {\n",
       "        vertical-align: middle;\n",
       "    }\n",
       "\n",
       "    .dataframe tbody tr th {\n",
       "        vertical-align: top;\n",
       "    }\n",
       "\n",
       "    .dataframe thead th {\n",
       "        text-align: right;\n",
       "    }\n",
       "</style>\n",
       "<table border=\"1\" class=\"dataframe\">\n",
       "  <thead>\n",
       "    <tr style=\"text-align: right;\">\n",
       "      <th></th>\n",
       "      <th>household_key</th>\n",
       "      <th>BASKET_ID</th>\n",
       "      <th>PRODUCT_ID</th>\n",
       "      <th>QUANTITY</th>\n",
       "      <th>SALES_VALUE</th>\n",
       "      <th>date</th>\n",
       "    </tr>\n",
       "  </thead>\n",
       "  <tbody>\n",
       "    <tr>\n",
       "      <th>0</th>\n",
       "      <td>1364</td>\n",
       "      <td>26984896261</td>\n",
       "      <td>842930</td>\n",
       "      <td>1</td>\n",
       "      <td>2.19</td>\n",
       "      <td>2016-01-01</td>\n",
       "    </tr>\n",
       "    <tr>\n",
       "      <th>1</th>\n",
       "      <td>1364</td>\n",
       "      <td>26984896261</td>\n",
       "      <td>897044</td>\n",
       "      <td>1</td>\n",
       "      <td>2.99</td>\n",
       "      <td>2016-01-01</td>\n",
       "    </tr>\n",
       "    <tr>\n",
       "      <th>2</th>\n",
       "      <td>1364</td>\n",
       "      <td>26984896261</td>\n",
       "      <td>920955</td>\n",
       "      <td>1</td>\n",
       "      <td>3.09</td>\n",
       "      <td>2016-01-01</td>\n",
       "    </tr>\n",
       "    <tr>\n",
       "      <th>3</th>\n",
       "      <td>1364</td>\n",
       "      <td>26984896261</td>\n",
       "      <td>937406</td>\n",
       "      <td>1</td>\n",
       "      <td>2.50</td>\n",
       "      <td>2016-01-01</td>\n",
       "    </tr>\n",
       "    <tr>\n",
       "      <th>4</th>\n",
       "      <td>1364</td>\n",
       "      <td>26984896261</td>\n",
       "      <td>981760</td>\n",
       "      <td>1</td>\n",
       "      <td>0.60</td>\n",
       "      <td>2016-01-01</td>\n",
       "    </tr>\n",
       "  </tbody>\n",
       "</table>\n",
       "</div>"
      ],
      "text/plain": [
       "   household_key    BASKET_ID  PRODUCT_ID  QUANTITY  SALES_VALUE       date\n",
       "0           1364  26984896261      842930         1         2.19 2016-01-01\n",
       "1           1364  26984896261      897044         1         2.99 2016-01-01\n",
       "2           1364  26984896261      920955         1         3.09 2016-01-01\n",
       "3           1364  26984896261      937406         1         2.50 2016-01-01\n",
       "4           1364  26984896261      981760         1         0.60 2016-01-01"
      ]
     },
     "execution_count": 6,
     "metadata": {},
     "output_type": "execute_result"
    }
   ],
   "source": [
    "# Checking the Data\n",
    "\n",
    "transactions.head()"
   ]
  },
  {
   "cell_type": "markdown",
   "id": "64d2e67d",
   "metadata": {},
   "source": [
    "## TIME BASED ANALYSIS\n",
    "\n",
    "* Plot the sum of sales by month. Are sales growing over time?\n",
    "* Next, plot the same series after filtering down to dates April 2016 and October 2017.\n",
    "* Then, plot the sum of monthly sales in 2016 vs the monthly sales 2017.\n",
    "* Finally, plot total sales by day of week."
   ]
  },
  {
   "cell_type": "code",
   "execution_count": 7,
   "id": "8a68946a",
   "metadata": {},
   "outputs": [
    {
     "data": {
      "text/plain": [
       "<Axes: xlabel='date'>"
      ]
     },
     "execution_count": 7,
     "metadata": {},
     "output_type": "execute_result"
    },
    {
     "data": {
      "image/png": "[encoded data removed]",
      "text/plain": [
       "<Figure size 640x480 with 1 Axes>"
      ]
     },
     "metadata": {},
     "output_type": "display_data"
    }
   ],
   "source": [
    "# Plotting the graph showing sum of sales by month\n",
    "\n",
    "# Set date index, resample on month end, grab sales and plot\n",
    "transactions.set_index('date').resample('ME').sum().loc[:,'SALES_VALUE'].plot()"
   ]
  },
  {
   "cell_type": "code",
   "execution_count": 8,
   "id": "d4253d37",
   "metadata": {},
   "outputs": [
    {
     "data": {
      "text/plain": [
       "<Axes: xlabel='date'>"
      ]
     },
     "execution_count": 8,
     "metadata": {},
     "output_type": "execute_result"
    },
    {
     "data": {
      "image/png": "[encoded data removed]",
      "text/plain": [
       "<Figure size 640x480 with 1 Axes>"
      ]
     },
     "metadata": {},
     "output_type": "display_data"
    }
   ],
   "source": [
    "# plotting same series for dates April 2016 and October 2017\n",
    "\n",
    "transactions.set_index('date').sort_index().loc['2016-04' : '2017-10', 'SALES_VALUE'].resample('ME').sum().plot()"
   ]
  },
  {
   "cell_type": "code",
   "execution_count": 9,
   "id": "5ddf6a6a",
   "metadata": {
    "scrolled": true
   },
   "outputs": [
    {
     "data": {
      "text/plain": [
       "<Axes: xlabel='date'>"
      ]
     },
     "execution_count": 9,
     "metadata": {},
     "output_type": "execute_result"
    },
    {
     "data": {
      "image/png": "[encoded data removed]",
      "text/plain": [
       "<Figure size 640x480 with 1 Axes>"
      ]
     },
     "metadata": {},
     "output_type": "display_data"
    }
   ],
   "source": [
    "# Plotting the sum of monthly sales in 2016 vs the monthly sales 2017\n",
    "\n",
    "sales_2016_2017 = transactions.pivot_table(\n",
    "                        index = transactions['date'].dt.month,\n",
    "                        columns = transactions['date'].dt.year,\n",
    "                        values = 'SALES_VALUE',\n",
    "                        aggfunc = 'sum')\n",
    "\n",
    "sales_2016_2017.plot()"
   ]
  },
  {
   "cell_type": "code",
   "execution_count": 10,
   "id": "cdfe4610",
   "metadata": {},
   "outputs": [
    {
     "data": {
      "text/plain": [
       "<Axes: xlabel='date'>"
      ]
     },
     "execution_count": 10,
     "metadata": {},
     "output_type": "execute_result"
    },
    {
     "data": {
      "image/png": "[encoded data removed]",
      "text/plain": [
       "<Figure size 640x480 with 1 Axes>"
      ]
     },
     "metadata": {},
     "output_type": "display_data"
    }
   ],
   "source": [
    "# Plotting total sales by day of week\n",
    "\n",
    "# Grouping data on day of week by sum of sales\n",
    "sales_day_of_week = transactions.groupby(transactions['date'].dt.day_of_week).agg({'SALES_VALUE' : 'sum'})\n",
    "\n",
    "# Plotting the Graph\n",
    "sales_day_of_week.plot.bar()"
   ]
  },
  {
   "cell_type": "markdown",
   "id": "2a96c4a4",
   "metadata": {},
   "source": [
    "# DEMOGRAPHICS\n",
    "\n",
    "* Read in the `hh_demographic.csv` file, but only the columns `AGE_DESC`, `INCOME_DESC`, `household_key`, and `HH_COMP_DESC`. Convert the appropriate columns to the category dtype.\n",
    "\n",
    "\n",
    "* Then group the transactions table by household_id, and calculate the sum of SALES VALUE by household.\n",
    "\n",
    "\n",
    "* Once you've done that, join the demographics DataFrame to the aggregated transactions table. Since we're interested in analyzing the demographic data we have, make sure not to include rows from transactions that don't match.\n",
    "\n",
    "\n",
    "* Plot the sum of sales by age_desc and income_desc (in separate charts).\n",
    "\n",
    "\n",
    "* Then, create a pivot table of the mean household sales by `AGE_DESC` and `HH_COMP_DESC`. Which of our demographics have the highest average sales?\n"
   ]
  },
  {
   "cell_type": "code",
   "execution_count": null,
   "id": "b03da735",
   "metadata": {},
   "outputs": [],
   "source": []
  },
  {
   "cell_type": "code",
   "execution_count": null,
   "id": "7635afb0",
   "metadata": {
    "scrolled": true
   },
   "outputs": [],
   "source": []
  },
  {
   "cell_type": "code",
   "execution_count": null,
   "id": "9f1a2ee8",
   "metadata": {},
   "outputs": [],
   "source": []
  },
  {
   "cell_type": "code",
   "execution_count": null,
   "id": "ef63184f",
   "metadata": {},
   "outputs": [],
   "source": []
  },
  {
   "cell_type": "code",
   "execution_count": null,
   "id": "5a5d42c1",
   "metadata": {},
   "outputs": [],
   "source": []
  },
  {
   "cell_type": "code",
   "execution_count": null,
   "id": "ccd5bfe5",
   "metadata": {},
   "outputs": [],
   "source": []
  },
  {
   "cell_type": "code",
   "execution_count": null,
   "id": "ec18a861",
   "metadata": {},
   "outputs": [],
   "source": []
  },
  {
   "cell_type": "code",
   "execution_count": null,
   "id": "a847e93e",
   "metadata": {},
   "outputs": [],
   "source": []
  },
  {
   "cell_type": "code",
   "execution_count": null,
   "id": "196e806b",
   "metadata": {},
   "outputs": [],
   "source": []
  },
  {
   "cell_type": "code",
   "execution_count": null,
   "id": "8b3545c2",
   "metadata": {},
   "outputs": [],
   "source": []
  },
  {
   "cell_type": "code",
   "execution_count": null,
   "id": "2edc7c14",
   "metadata": {},
   "outputs": [],
   "source": []
  },
  {
   "cell_type": "markdown",
   "id": "5081f94d",
   "metadata": {},
   "source": [
    "# PRODUCT DEMOGRAPHICS\n",
    "\n",
    "* Read in the product csv file.\n",
    "\n",
    "* Only read in product_id and department from product (consider converting columns).\n",
    "\n",
    "* Join the product DataFrame to transactions and demographics tables, performing an inner join when joining both tables.\n",
    "\n",
    "* Finally, pivot the fully joined dataframe by AGE_DESC and DEPARTMENT, calculating the sum of sales. Which category does our youngest demographic perform well in?\n",
    "\n"
   ]
  },
  {
   "cell_type": "code",
   "execution_count": null,
   "id": "def3a4b1",
   "metadata": {},
   "outputs": [],
   "source": []
  },
  {
   "cell_type": "code",
   "execution_count": null,
   "id": "a498c9ab",
   "metadata": {},
   "outputs": [],
   "source": []
  },
  {
   "cell_type": "code",
   "execution_count": null,
   "id": "a314ac71",
   "metadata": {},
   "outputs": [],
   "source": []
  },
  {
   "cell_type": "code",
   "execution_count": null,
   "id": "65e3618f",
   "metadata": {},
   "outputs": [],
   "source": []
  },
  {
   "cell_type": "code",
   "execution_count": null,
   "id": "ed86759d",
   "metadata": {},
   "outputs": [],
   "source": []
  },
  {
   "cell_type": "markdown",
   "id": "c761f6ed",
   "metadata": {},
   "source": [
    "# EXPORT\n",
    "\n",
    "Finally, export your pivot table to an excel file. Make sure to provide a sheet name."
   ]
  },
  {
   "cell_type": "code",
   "execution_count": null,
   "id": "abfe3a77",
   "metadata": {},
   "outputs": [],
   "source": []
  }
 ],
 "metadata": {
  "kernelspec": {
   "display_name": "base",
   "language": "python",
   "name": "python3"
  },
  "language_info": {
   "codemirror_mode": {
    "name": "ipython",
    "version": 3
   },
   "file_extension": ".py",
   "mimetype": "text/x-python",
   "name": "python",
   "nbconvert_exporter": "python",
   "pygments_lexer": "ipython3",
   "version": "3.12.7"
  }
 },
 "nbformat": 4,
 "nbformat_minor": 5
}
